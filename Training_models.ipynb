{
 "cells": [
  {
   "cell_type": "code",
   "id": "initial_id",
   "metadata": {
    "collapsed": true,
    "ExecuteTime": {
     "end_time": "2024-10-23T05:24:13.376896Z",
     "start_time": "2024-10-23T05:24:12.475936Z"
    }
   },
   "source": [
    "import pandas as pd\n",
    "\n",
    "# Load your DataFrame (assuming it's saved as 'data.csv')\n",
    "df = pd.read_csv('train_with_features.csv')\n"
   ],
   "outputs": [],
   "execution_count": 1
  },
  {
   "metadata": {
    "ExecuteTime": {
     "end_time": "2024-10-23T05:24:19.507596Z",
     "start_time": "2024-10-23T05:24:19.494668Z"
    }
   },
   "cell_type": "code",
   "source": "df.shape",
   "id": "c189ec0467d3b8f5",
   "outputs": [
    {
     "data": {
      "text/plain": [
       "(223, 15)"
      ]
     },
     "execution_count": 2,
     "metadata": {},
     "output_type": "execute_result"
    }
   ],
   "execution_count": 2
  },
  {
   "metadata": {
    "ExecuteTime": {
     "end_time": "2024-10-23T05:25:29.057406Z",
     "start_time": "2024-10-23T05:25:29.031493Z"
    }
   },
   "cell_type": "code",
   "source": "df.head()",
   "id": "14f51e4ac726ed23",
   "outputs": [
    {
     "data": {
      "text/plain": [
       "   Unnamed: 0        spotify_track_id  \\\n",
       "0           0  06s6aloy62vytl3MnT6gfl   \n",
       "1           1  0h9fnCSnbUgOEgibnQByFv   \n",
       "2           2  1iArQTuOzxvrtniGmkyy92   \n",
       "3           3  3A9vIxzGBjEfqmDK7H9exS   \n",
       "4           4  39kHMfF3dBMZMbOtoit1XF   \n",
       "\n",
       "                                          song_title  label         emotion  \\\n",
       "0  Times Like These - Live at the Pantages Theatr...      0       Amusement   \n",
       "1                                      Everyday Life      2  Disappointment   \n",
       "2                                  Burden In My Hand      3           Anger   \n",
       "3                                       Pyramid Song      3            Fear   \n",
       "4                                        On The Mend      0             Joy   \n",
       "\n",
       "  session_type  subject_id          id       song_author   alpha_power  \\\n",
       "0     personal          23  3784258358  ['Foo Fighters']  2.258961e-12   \n",
       "1     personal          23  2395445698      ['Coldplay']  2.269191e-12   \n",
       "2     personal          23  3049220457   ['Soundgarden']  3.825635e-12   \n",
       "3     personal          23  2667905835     ['Radiohead']  3.852573e-12   \n",
       "4     personal          23  1281311748  ['Foo Fighters']  3.885899e-12   \n",
       "\n",
       "     beta_power   delta_power   theta_power      variance          mean  \n",
       "0  1.019803e-12  4.672743e-11  4.411881e-12  2.553564e-10  2.346306e-09  \n",
       "1  7.160127e-13  2.629792e-11  3.541972e-12  2.081659e-10  1.011783e-08  \n",
       "2  1.182833e-12  6.786013e-11  5.654127e-12  5.708281e-10 -1.731397e-07  \n",
       "3  1.220438e-12  5.783148e-11  6.408991e-12  3.996517e-10  1.924873e-07  \n",
       "4  1.389423e-12  8.960010e-11  7.100184e-12  4.647378e-10  6.473157e-08  "
      ],
      "text/html": [
       "<div>\n",
       "<style scoped>\n",
       "    .dataframe tbody tr th:only-of-type {\n",
       "        vertical-align: middle;\n",
       "    }\n",
       "\n",
       "    .dataframe tbody tr th {\n",
       "        vertical-align: top;\n",
       "    }\n",
       "\n",
       "    .dataframe thead th {\n",
       "        text-align: right;\n",
       "    }\n",
       "</style>\n",
       "<table border=\"1\" class=\"dataframe\">\n",
       "  <thead>\n",
       "    <tr style=\"text-align: right;\">\n",
       "      <th></th>\n",
       "      <th>Unnamed: 0</th>\n",
       "      <th>spotify_track_id</th>\n",
       "      <th>song_title</th>\n",
       "      <th>label</th>\n",
       "      <th>emotion</th>\n",
       "      <th>session_type</th>\n",
       "      <th>subject_id</th>\n",
       "      <th>id</th>\n",
       "      <th>song_author</th>\n",
       "      <th>alpha_power</th>\n",
       "      <th>beta_power</th>\n",
       "      <th>delta_power</th>\n",
       "      <th>theta_power</th>\n",
       "      <th>variance</th>\n",
       "      <th>mean</th>\n",
       "    </tr>\n",
       "  </thead>\n",
       "  <tbody>\n",
       "    <tr>\n",
       "      <th>0</th>\n",
       "      <td>0</td>\n",
       "      <td>06s6aloy62vytl3MnT6gfl</td>\n",
       "      <td>Times Like These - Live at the Pantages Theatr...</td>\n",
       "      <td>0</td>\n",
       "      <td>Amusement</td>\n",
       "      <td>personal</td>\n",
       "      <td>23</td>\n",
       "      <td>3784258358</td>\n",
       "      <td>['Foo Fighters']</td>\n",
       "      <td>2.258961e-12</td>\n",
       "      <td>1.019803e-12</td>\n",
       "      <td>4.672743e-11</td>\n",
       "      <td>4.411881e-12</td>\n",
       "      <td>2.553564e-10</td>\n",
       "      <td>2.346306e-09</td>\n",
       "    </tr>\n",
       "    <tr>\n",
       "      <th>1</th>\n",
       "      <td>1</td>\n",
       "      <td>0h9fnCSnbUgOEgibnQByFv</td>\n",
       "      <td>Everyday Life</td>\n",
       "      <td>2</td>\n",
       "      <td>Disappointment</td>\n",
       "      <td>personal</td>\n",
       "      <td>23</td>\n",
       "      <td>2395445698</td>\n",
       "      <td>['Coldplay']</td>\n",
       "      <td>2.269191e-12</td>\n",
       "      <td>7.160127e-13</td>\n",
       "      <td>2.629792e-11</td>\n",
       "      <td>3.541972e-12</td>\n",
       "      <td>2.081659e-10</td>\n",
       "      <td>1.011783e-08</td>\n",
       "    </tr>\n",
       "    <tr>\n",
       "      <th>2</th>\n",
       "      <td>2</td>\n",
       "      <td>1iArQTuOzxvrtniGmkyy92</td>\n",
       "      <td>Burden In My Hand</td>\n",
       "      <td>3</td>\n",
       "      <td>Anger</td>\n",
       "      <td>personal</td>\n",
       "      <td>23</td>\n",
       "      <td>3049220457</td>\n",
       "      <td>['Soundgarden']</td>\n",
       "      <td>3.825635e-12</td>\n",
       "      <td>1.182833e-12</td>\n",
       "      <td>6.786013e-11</td>\n",
       "      <td>5.654127e-12</td>\n",
       "      <td>5.708281e-10</td>\n",
       "      <td>-1.731397e-07</td>\n",
       "    </tr>\n",
       "    <tr>\n",
       "      <th>3</th>\n",
       "      <td>3</td>\n",
       "      <td>3A9vIxzGBjEfqmDK7H9exS</td>\n",
       "      <td>Pyramid Song</td>\n",
       "      <td>3</td>\n",
       "      <td>Fear</td>\n",
       "      <td>personal</td>\n",
       "      <td>23</td>\n",
       "      <td>2667905835</td>\n",
       "      <td>['Radiohead']</td>\n",
       "      <td>3.852573e-12</td>\n",
       "      <td>1.220438e-12</td>\n",
       "      <td>5.783148e-11</td>\n",
       "      <td>6.408991e-12</td>\n",
       "      <td>3.996517e-10</td>\n",
       "      <td>1.924873e-07</td>\n",
       "    </tr>\n",
       "    <tr>\n",
       "      <th>4</th>\n",
       "      <td>4</td>\n",
       "      <td>39kHMfF3dBMZMbOtoit1XF</td>\n",
       "      <td>On The Mend</td>\n",
       "      <td>0</td>\n",
       "      <td>Joy</td>\n",
       "      <td>personal</td>\n",
       "      <td>23</td>\n",
       "      <td>1281311748</td>\n",
       "      <td>['Foo Fighters']</td>\n",
       "      <td>3.885899e-12</td>\n",
       "      <td>1.389423e-12</td>\n",
       "      <td>8.960010e-11</td>\n",
       "      <td>7.100184e-12</td>\n",
       "      <td>4.647378e-10</td>\n",
       "      <td>6.473157e-08</td>\n",
       "    </tr>\n",
       "  </tbody>\n",
       "</table>\n",
       "</div>"
      ]
     },
     "execution_count": 3,
     "metadata": {},
     "output_type": "execute_result"
    }
   ],
   "execution_count": 3
  },
  {
   "metadata": {
    "ExecuteTime": {
     "end_time": "2024-10-23T05:25:29.658916Z",
     "start_time": "2024-10-23T05:25:29.651534Z"
    }
   },
   "cell_type": "code",
   "source": [
    "\n",
    "# Define your features and target variable\n",
    "X = df[['alpha_power','beta_power','delta_power','theta_power']]\n",
    "y = df['label']\n",
    "X.head()\n"
   ],
   "id": "44bc576523542097",
   "outputs": [
    {
     "data": {
      "text/plain": [
       "    alpha_power    beta_power   delta_power   theta_power\n",
       "0  2.258961e-12  1.019803e-12  4.672743e-11  4.411881e-12\n",
       "1  2.269191e-12  7.160127e-13  2.629792e-11  3.541972e-12\n",
       "2  3.825635e-12  1.182833e-12  6.786013e-11  5.654127e-12\n",
       "3  3.852573e-12  1.220438e-12  5.783148e-11  6.408991e-12\n",
       "4  3.885899e-12  1.389423e-12  8.960010e-11  7.100184e-12"
      ],
      "text/html": [
       "<div>\n",
       "<style scoped>\n",
       "    .dataframe tbody tr th:only-of-type {\n",
       "        vertical-align: middle;\n",
       "    }\n",
       "\n",
       "    .dataframe tbody tr th {\n",
       "        vertical-align: top;\n",
       "    }\n",
       "\n",
       "    .dataframe thead th {\n",
       "        text-align: right;\n",
       "    }\n",
       "</style>\n",
       "<table border=\"1\" class=\"dataframe\">\n",
       "  <thead>\n",
       "    <tr style=\"text-align: right;\">\n",
       "      <th></th>\n",
       "      <th>alpha_power</th>\n",
       "      <th>beta_power</th>\n",
       "      <th>delta_power</th>\n",
       "      <th>theta_power</th>\n",
       "    </tr>\n",
       "  </thead>\n",
       "  <tbody>\n",
       "    <tr>\n",
       "      <th>0</th>\n",
       "      <td>2.258961e-12</td>\n",
       "      <td>1.019803e-12</td>\n",
       "      <td>4.672743e-11</td>\n",
       "      <td>4.411881e-12</td>\n",
       "    </tr>\n",
       "    <tr>\n",
       "      <th>1</th>\n",
       "      <td>2.269191e-12</td>\n",
       "      <td>7.160127e-13</td>\n",
       "      <td>2.629792e-11</td>\n",
       "      <td>3.541972e-12</td>\n",
       "    </tr>\n",
       "    <tr>\n",
       "      <th>2</th>\n",
       "      <td>3.825635e-12</td>\n",
       "      <td>1.182833e-12</td>\n",
       "      <td>6.786013e-11</td>\n",
       "      <td>5.654127e-12</td>\n",
       "    </tr>\n",
       "    <tr>\n",
       "      <th>3</th>\n",
       "      <td>3.852573e-12</td>\n",
       "      <td>1.220438e-12</td>\n",
       "      <td>5.783148e-11</td>\n",
       "      <td>6.408991e-12</td>\n",
       "    </tr>\n",
       "    <tr>\n",
       "      <th>4</th>\n",
       "      <td>3.885899e-12</td>\n",
       "      <td>1.389423e-12</td>\n",
       "      <td>8.960010e-11</td>\n",
       "      <td>7.100184e-12</td>\n",
       "    </tr>\n",
       "  </tbody>\n",
       "</table>\n",
       "</div>"
      ]
     },
     "execution_count": 4,
     "metadata": {},
     "output_type": "execute_result"
    }
   ],
   "execution_count": 4
  },
  {
   "metadata": {
    "ExecuteTime": {
     "end_time": "2024-10-23T05:25:31.888868Z",
     "start_time": "2024-10-23T05:25:30.316488Z"
    }
   },
   "cell_type": "code",
   "source": [
    "from sklearn.model_selection import train_test_split\n",
    "\n",
    "X_train, X_test, y_train, y_test = train_test_split(X, y, test_size=0.2, random_state=42, stratify=y)"
   ],
   "id": "2f36219c980030f4",
   "outputs": [],
   "execution_count": 5
  },
  {
   "metadata": {
    "ExecuteTime": {
     "end_time": "2024-10-23T05:25:32.505604Z",
     "start_time": "2024-10-23T05:25:32.499759Z"
    }
   },
   "cell_type": "code",
   "source": [
    "from sklearn.preprocessing import StandardScaler\n",
    "\n",
    "scaler = StandardScaler()\n",
    "X_train = scaler.fit_transform(X_train)\n",
    "X_test = scaler.transform(X_test)"
   ],
   "id": "d6a80b5565d50cb9",
   "outputs": [],
   "execution_count": 6
  },
  {
   "metadata": {
    "ExecuteTime": {
     "end_time": "2024-10-23T05:26:20.727388Z",
     "start_time": "2024-10-23T05:26:20.619369Z"
    }
   },
   "cell_type": "code",
   "source": [
    "from xgboost import XGBClassifier\n",
    "from sklearn.ensemble import RandomForestClassifier\n",
    "from sklearn.metrics import classification_report, accuracy_score\n",
    "\n",
    "# Initialize the model\n",
    "model = XGBClassifier( eval_metric='mlogloss')\n",
    "# Train the model\n",
    "model.fit(X_train, y_train)\n",
    "\n",
    "# Make predictions\n",
    "y_pred = model.predict(X_test)"
   ],
   "id": "d9890c816192893e",
   "outputs": [],
   "execution_count": 13
  },
  {
   "metadata": {
    "ExecuteTime": {
     "end_time": "2024-10-23T05:26:21.271418Z",
     "start_time": "2024-10-23T05:26:21.260974Z"
    }
   },
   "cell_type": "code",
   "source": [
    "print(\"Accuracy:\", accuracy_score(y_test, y_pred))\n",
    "print(\"Classification Report:\\n\", classification_report(y_test, y_pred))"
   ],
   "id": "f2399017f6c451e3",
   "outputs": [
    {
     "name": "stdout",
     "output_type": "stream",
     "text": [
      "Accuracy: 0.3111111111111111\n",
      "Classification Report:\n",
      "               precision    recall  f1-score   support\n",
      "\n",
      "           0       0.31      1.00      0.47        14\n",
      "           1       0.00      0.00      0.00        13\n",
      "           2       0.00      0.00      0.00         9\n",
      "           3       0.00      0.00      0.00         9\n",
      "\n",
      "    accuracy                           0.31        45\n",
      "   macro avg       0.08      0.25      0.12        45\n",
      "weighted avg       0.10      0.31      0.15        45\n",
      "\n"
     ]
    },
    {
     "name": "stderr",
     "output_type": "stream",
     "text": [
      "/Users/harsh_dadwal/Harsh/Research_signal/A.Purohit/.venv/lib/python3.11/site-packages/sklearn/metrics/_classification.py:1531: UndefinedMetricWarning: Precision is ill-defined and being set to 0.0 in labels with no predicted samples. Use `zero_division` parameter to control this behavior.\n",
      "  _warn_prf(average, modifier, f\"{metric.capitalize()} is\", len(result))\n",
      "/Users/harsh_dadwal/Harsh/Research_signal/A.Purohit/.venv/lib/python3.11/site-packages/sklearn/metrics/_classification.py:1531: UndefinedMetricWarning: Precision is ill-defined and being set to 0.0 in labels with no predicted samples. Use `zero_division` parameter to control this behavior.\n",
      "  _warn_prf(average, modifier, f\"{metric.capitalize()} is\", len(result))\n",
      "/Users/harsh_dadwal/Harsh/Research_signal/A.Purohit/.venv/lib/python3.11/site-packages/sklearn/metrics/_classification.py:1531: UndefinedMetricWarning: Precision is ill-defined and being set to 0.0 in labels with no predicted samples. Use `zero_division` parameter to control this behavior.\n",
      "  _warn_prf(average, modifier, f\"{metric.capitalize()} is\", len(result))\n"
     ]
    }
   ],
   "execution_count": 14
  },
  {
   "metadata": {
    "ExecuteTime": {
     "end_time": "2024-10-23T05:26:32.460523Z",
     "start_time": "2024-10-23T05:26:25.049484Z"
    }
   },
   "cell_type": "code",
   "source": [
    "from sklearn.model_selection import GridSearchCV\n",
    "\n",
    "param_grid = {\n",
    "    'n_estimators': [100, 200],\n",
    "    'max_depth': [3, 5, 7],\n",
    "    'learning_rate': [0.01, 0.1, 0.2]\n",
    "}\n",
    "\n",
    "grid_search = GridSearchCV(model, param_grid, cv=5)\n",
    "grid_search.fit(X_train, y_train)\n",
    "\n",
    "print(\"Best parameters:\", grid_search.best_params_)"
   ],
   "id": "d04fae4ec7a4d935",
   "outputs": [
    {
     "name": "stdout",
     "output_type": "stream",
     "text": [
      "Best parameters: {'learning_rate': 0.01, 'max_depth': 3, 'n_estimators': 100}\n"
     ]
    }
   ],
   "execution_count": 15
  },
  {
   "metadata": {
    "ExecuteTime": {
     "end_time": "2024-10-23T05:26:34.295616Z",
     "start_time": "2024-10-23T05:26:34.197291Z"
    }
   },
   "cell_type": "code",
   "source": [
    "best_model = grid_search.best_estimator_\n",
    "best_model.fit(X_train, y_train)\n",
    "\n",
    "# Evaluate the final model\n",
    "final_predictions = best_model.predict(X_test)\n",
    "print(\"Final Model Accuracy:\", accuracy_score(y_test, final_predictions))"
   ],
   "id": "8b228977875a2def",
   "outputs": [
    {
     "name": "stdout",
     "output_type": "stream",
     "text": [
      "Final Model Accuracy: 0.3111111111111111\n"
     ]
    }
   ],
   "execution_count": 16
  },
  {
   "metadata": {
    "ExecuteTime": {
     "end_time": "2024-10-23T05:26:35.630693Z",
     "start_time": "2024-10-23T05:26:35.619099Z"
    }
   },
   "cell_type": "code",
   "source": "df['label'].value_counts()",
   "id": "f339c2eadb2c67ad",
   "outputs": [
    {
     "data": {
      "text/plain": [
       "label\n",
       "0    68\n",
       "1    65\n",
       "3    47\n",
       "2    43\n",
       "Name: count, dtype: int64"
      ]
     },
     "execution_count": 17,
     "metadata": {},
     "output_type": "execute_result"
    }
   ],
   "execution_count": 17
  },
  {
   "metadata": {},
   "cell_type": "code",
   "outputs": [],
   "execution_count": null,
   "source": "",
   "id": "3be839864dd35f55"
  }
 ],
 "metadata": {
  "kernelspec": {
   "display_name": "Python 3",
   "language": "python",
   "name": "python3"
  },
  "language_info": {
   "codemirror_mode": {
    "name": "ipython",
    "version": 2
   },
   "file_extension": ".py",
   "mimetype": "text/x-python",
   "name": "python",
   "nbconvert_exporter": "python",
   "pygments_lexer": "ipython2",
   "version": "2.7.6"
  }
 },
 "nbformat": 4,
 "nbformat_minor": 5
}
